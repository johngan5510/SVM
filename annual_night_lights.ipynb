{
 "cells": [
  {
   "cell_type": "markdown",
   "metadata": {},
   "source": [
    "# Average of the monthly nighttime-lights\n",
    "\n",
    "Nighttime-lights are available on the [server](https://www.ngdc.noaa.gov/eog/viirs/download_dnb_composites.html) as monthly products. For the study of detecting new built-up areas night lights of 2017 is used. Hence, the monthly products of nighttime-lights for the year of 2017 should be averaged."
   ]
  },
  {
   "cell_type": "code",
   "execution_count": 3,
   "metadata": {},
   "outputs": [],
   "source": [
    "import os\n",
    "import glob\n",
    "\n",
    "import numpy as np\n",
    "import rasterio\n",
    "\n",
    "import matplotlib.pylab as plt\n",
    "\n",
    "#RuntimeWarning: numpy.dtype size changed, may indicate binary incompatibility\n",
    "import warnings\n",
    "warnings.filterwarnings(\"always\")"
   ]
  },
  {
   "cell_type": "code",
   "execution_count": 4,
   "metadata": {},
   "outputs": [],
   "source": [
    "%matplotlib inline"
   ]
  },
  {
   "cell_type": "code",
   "execution_count": 67,
   "metadata": {},
   "outputs": [],
   "source": [
    "DATA_PATH = '/media/io/Data/ASTROSAT_projects/Nighttime_lights/Monthly_night_lights'\n",
    "nightlight_data_path = sorted(glob.glob(os.path.join(DATA_PATH, '2018','*.tif')))"
   ]
  },
  {
   "cell_type": "markdown",
   "metadata": {},
   "source": [
    "### Average of monghtly night-lights."
   ]
  },
  {
   "cell_type": "code",
   "execution_count": 22,
   "metadata": {},
   "outputs": [],
   "source": [
    "nightlights_annual = {}\n",
    "\n",
    "for path in nightlight_data_path:\n",
    "    SVDNB_name = os.path.basename(path)\n",
    "    SVDNB_name = os.path.splitext(SVDNB_name[:35])[0]\n",
    "    with rasterio.open(path, 'r') as src:\n",
    "        band = src.read(1)\n",
    "        band_crs = src.crs\n",
    "        transform = src.transform\n",
    "        nightlights_annual[SVDNB_name] = {'band':band,\n",
    "                                          'transform':transform,\n",
    "                                          'crs':band_crs}\n",
    "        \n",
    "total = 0\n",
    "for k,v in nightlights_annual.items():\n",
    "    total += v['band']\n",
    "    \n",
    "nightlights_average = total / len(nightlights_annual)"
   ]
  },
  {
   "cell_type": "markdown",
   "metadata": {},
   "source": [
    "### Save the raster file"
   ]
  },
  {
   "cell_type": "code",
   "execution_count": 72,
   "metadata": {},
   "outputs": [],
   "source": [
    "profile = src.profile\n",
    "profile.update(driver='GTiff', \n",
    "               dtype=rasterio.float32,\n",
    "               compress='lzw',\n",
    "               count=1)\n",
    "\n",
    "with rasterio.open('/home/io/Desktop/annual_nightlights_2018.tif', 'w', **profile) as dst:\n",
    "    dst.write(nightlights_average.astype(rasterio.float32), 1)"
   ]
  }
 ],
 "metadata": {
  "kernelspec": {
   "display_name": "Python 3",
   "language": "python",
   "name": "python3"
  },
  "language_info": {
   "codemirror_mode": {
    "name": "ipython",
    "version": 3
   },
   "file_extension": ".py",
   "mimetype": "text/x-python",
   "name": "python",
   "nbconvert_exporter": "python",
   "pygments_lexer": "ipython3",
   "version": "3.6.6"
  }
 },
 "nbformat": 4,
 "nbformat_minor": 2
}
