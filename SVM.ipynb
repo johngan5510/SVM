{
 "cells": [
  {
   "cell_type": "code",
   "execution_count": 1,
   "metadata": {},
   "outputs": [],
   "source": [
    "import numpy as np"
   ]
  },
  {
   "cell_type": "markdown",
   "metadata": {},
   "source": [
    "## Calculate the norm (magnitude) of a vector\n",
    "The first component of a vector is its `norm` and can be calculated using the **Euclidian norm formula**:\n",
    "\n",
    "$$ ||x|| = \\sqrt{x^2_1 +....+x^2_n} $$"
   ]
  },
  {
   "cell_type": "code",
   "execution_count": 2,
   "metadata": {},
   "outputs": [
    {
     "data": {
      "text/plain": [
       "5.0"
      ]
     },
     "execution_count": 2,
     "metadata": {},
     "output_type": "execute_result"
    }
   ],
   "source": [
    "def vector_magnitude(x):\n",
    "    norm = np.linalg.norm(x)\n",
    "    \n",
    "    return norm\n",
    "    \n",
    "x = [3,4]\n",
    "vector_magnitude(x)"
   ]
  },
  {
   "cell_type": "markdown",
   "metadata": {},
   "source": [
    "## Calculate the direction of a vector\n",
    "The second componet of a vector is its `direction`. By definition, it is a new vector where its coordinates (e.g [3,4]) are devided by its norm. Hence, the direction of a vector u=(u1,u2) is given by:\n",
    "\n",
    "$$ w =\\left(\\frac{u_1}{||u||}, \\frac{u_2}{||u||}\\right) $$ "
   ]
  },
  {
   "cell_type": "code",
   "execution_count": 3,
   "metadata": {},
   "outputs": [
    {
     "data": {
      "text/plain": [
       "array([0.6, 0.8])"
      ]
     },
     "execution_count": 3,
     "metadata": {},
     "output_type": "execute_result"
    }
   ],
   "source": [
    "def vector_direction(x):\n",
    "    norm = vector_magnitude(x)\n",
    "    direction = x/norm\n",
    "    \n",
    "    return direction\n",
    "\n",
    "u = np.array([3,4])\n",
    "vector_direction(u)"
   ]
  },
  {
   "cell_type": "markdown",
   "metadata": {},
   "source": [
    "## Unit vector\n",
    "The **norm** of a direction vector is alway one, This can be confirmed in the example below"
   ]
  },
  {
   "cell_type": "code",
   "execution_count": 4,
   "metadata": {},
   "outputs": [
    {
     "data": {
      "text/plain": [
       "1.0"
      ]
     },
     "execution_count": 4,
     "metadata": {},
     "output_type": "execute_result"
    }
   ],
   "source": [
    "def unit_vector(x):\n",
    "    unit_vector = np.linalg.norm(x)\n",
    "    \n",
    "    return unit_vector\n",
    "\n",
    "u1 = np.array([0.6,0.8])\n",
    "unit_vector(u1)"
   ]
  },
  {
   "cell_type": "markdown",
   "metadata": {},
   "source": [
    "## Calculation of the dot product\n",
    "The dot product operation performed on two vectors that returns a **scalar**. Tha is why the dot product is also called **scalar product**.\n",
    "The dot product of two vectors `x` and `y` with an angle $\\theta$ thier dot product is the following:\n",
    "\n",
    "$$x\\cdot y = ||x|| ||y|| cos(\\theta)$$\n",
    "\n",
    "<img src=\"/images/dot_product.png\" width=\"300\">"
   ]
  },
  {
   "cell_type": "code",
   "execution_count": 15,
   "metadata": {},
   "outputs": [],
   "source": [
    "def geometric_dot_product(x,y,theta):\n",
    "    norm_x = np.linalg.norm(x)\n",
    "    norm_y = np.linalg.norm(y)\n",
    "    geom_dot_product = norm_x * norm_y * np.cos(np.deg2rad(theta))\n",
    "    \n",
    "    return int(geom_dot_product)"
   ]
  },
  {
   "cell_type": "code",
   "execution_count": 16,
   "metadata": {},
   "outputs": [
    {
     "data": {
      "text/plain": [
       "34"
      ]
     },
     "execution_count": 16,
     "metadata": {},
     "output_type": "execute_result"
    }
   ],
   "source": [
    "x = [3,5]\n",
    "y = [8,2]\n",
    "theta = 45\n",
    "\n",
    "geometric_dot_product(x,y,theta)"
   ]
  },
  {
   "cell_type": "markdown",
   "metadata": {},
   "source": [
    "Above, we have seen that calculating the geometric dot of two vectors requires to know the angle between them. There is an easier way of calculating the dot product without having to know the angle between them. \n",
    "\n",
    "The dot product can also be written as follows:\n",
    "\n",
    "$$x \\cdot y = x_1y_1 + x_2y_2$$\n",
    "\n",
    "                                                OR\n",
    "                                                \n",
    "$$x\\cdot y =  \\sum_{i=1}^2 (x_iy_i)$$                            \n",
    "\n",
    "when we have many vectors, we can write the above equation in more general way:\n",
    "\n",
    "$$x\\cdot y =  \\sum_{i=1}^n (x_iy_i)$$\n",
    "\n",
    "Hence, we can calculate the dot product as follows:"
   ]
  },
  {
   "cell_type": "code",
   "execution_count": 21,
   "metadata": {},
   "outputs": [
    {
     "data": {
      "text/plain": [
       "34"
      ]
     },
     "execution_count": 21,
     "metadata": {},
     "output_type": "execute_result"
    }
   ],
   "source": [
    "def dot_product(u,v):\n",
    "    results = 0\n",
    "    for i in range(len(u)):\n",
    "        results = results + u[i] * v[i]\n",
    "    return results\n",
    "\n",
    "u = [3,5]\n",
    "v = [8,2]\n",
    "\n",
    "dot_product(u,v)"
   ]
  },
  {
   "cell_type": "markdown",
   "metadata": {},
   "source": [
    "Calculating the dot product using the function `dot_product` is advantageous compared to `geometric_dot_product` because we do not have to know the angle $\\theta$ to compute the dot\n",
    "product. Hence, we write a function to compute its value and get the same results"
   ]
  },
  {
   "cell_type": "markdown",
   "metadata": {},
   "source": [
    "## Calculate the angle of two vectors"
   ]
  },
  {
   "cell_type": "code",
   "execution_count": 19,
   "metadata": {},
   "outputs": [
    {
     "name": "stdout",
     "output_type": "stream",
     "text": [
      "The angle between u and v vectors is: 45 degrees\n"
     ]
    }
   ],
   "source": [
    "def angle_of_two_vectors(u,v):\n",
    "    dot_product = np.dot(u,v)\n",
    "    norm_u = np.linalg.norm(u)\n",
    "    norm_v = np.linalg.norm(v)\n",
    "    angle = np.arccos(dot_product / (norm_u * norm_v))\n",
    "    \n",
    "    return int(np.rad2deg(angle))\n",
    "\n",
    "u = [3,5]\n",
    "v = [8,2]\n",
    "\n",
    "angle_deg = angle_of_two_vectors(u,v)\n",
    "print ('The angle between u and v vectors is:', angle_deg, 'degrees')"
   ]
  },
  {
   "cell_type": "code",
   "execution_count": null,
   "metadata": {},
   "outputs": [],
   "source": []
  },
  {
   "cell_type": "code",
   "execution_count": null,
   "metadata": {},
   "outputs": [],
   "source": []
  },
  {
   "cell_type": "code",
   "execution_count": null,
   "metadata": {},
   "outputs": [],
   "source": []
  },
  {
   "cell_type": "code",
   "execution_count": null,
   "metadata": {},
   "outputs": [],
   "source": []
  }
 ],
 "metadata": {
  "kernelspec": {
   "display_name": "Python 3",
   "language": "python",
   "name": "python3"
  },
  "language_info": {
   "codemirror_mode": {
    "name": "ipython",
    "version": 3
   },
   "file_extension": ".py",
   "mimetype": "text/x-python",
   "name": "python",
   "nbconvert_exporter": "python",
   "pygments_lexer": "ipython3",
   "version": "3.6.6"
  }
 },
 "nbformat": 4,
 "nbformat_minor": 2
}
